{
 "cells": [
  {
   "cell_type": "code",
   "execution_count": null,
   "id": "a78845bf",
   "metadata": {},
   "outputs": [],
   "source": [
    "#import os\n",
    "\n",
    "# 작업 디렉토리 변경\n",
    "#new_directory = '/path/to/your/directory'\n",
    "#os.chdir(new_directory)\n",
    "\n",
    "# 변경된 작업 디렉토리 확인\n",
    "#current_working_directory = os.getcwd()\n",
    "#print(f\"New working directory: {current_working_directory}\")"
   ]
  },
  {
   "cell_type": "markdown",
   "id": "1cd31f09",
   "metadata": {},
   "source": [
    "## 작업 디렉토리 출력"
   ]
  },
  {
   "cell_type": "code",
   "execution_count": 1,
   "id": "702d574b",
   "metadata": {},
   "outputs": [
    {
     "name": "stdout",
     "output_type": "stream",
     "text": [
      "Current working directory: C:\\Users\\leeyh\\산업인공지능\n"
     ]
    }
   ],
   "source": [
    "import os\n",
    "\n",
    "# 현재 작업 디렉토리 출력\n",
    "current_working_directory = os.getcwd()\n",
    "print(f\"Current working directory: {current_working_directory}\")"
   ]
  },
  {
   "cell_type": "markdown",
   "id": "d19f84e7",
   "metadata": {},
   "source": [
    "## 데이터 컴바인"
   ]
  },
  {
   "cell_type": "code",
   "execution_count": 8,
   "id": "22b13a3f",
   "metadata": {},
   "outputs": [],
   "source": [
    "import os\n",
    "import pandas as pd\n",
    "\n",
    "def combine_csv_files(directory):\n",
    "    # 디렉토리 내의 모든 CSV 파일 리스트 얻기\n",
    "    csv_files = [f for f in os.listdir(directory) if f.endswith('.csv')]\n",
    "    \n",
    "    # 모든 CSV 파일을 읽어서 데이터프레임 리스트에 추가\n",
    "    dataframes = []\n",
    "    for csv_file in csv_files:\n",
    "        file_path = os.path.join(directory, csv_file)\n",
    "        df = pd.read_csv(file_path)\n",
    "        dataframes.append(df)\n",
    "    \n",
    "    # 데이터프레임 리스트를 하나의 데이터프레임으로 합치기\n",
    "    combined_df = pd.concat(dataframes, ignore_index=True)\n",
    "    return combined_df\n",
    "\n",
    "# 경로 설정\n",
    "training_directory = r'C:\\Users\\leeyh\\산업인공지능\\data\\training'\n",
    "validation_directory = r'C:\\Users\\leeyh\\산업인공지능\\data\\validation'\n",
    "\n",
    "# CSV 파일 합치기\n",
    "combined_training_df = combine_csv_files(training_directory)\n",
    "combined_validation_df = combine_csv_files(validation_directory)\n",
    "\n",
    "# 합친 데이터프레임을 CSV 파일로 저장\n",
    "combined_training_df.to_csv(r'C:\\Users\\leeyh\\산업인공지능\\combined_training.csv', index=False)\n",
    "combined_validation_df.to_csv(r'C:\\Users\\leeyh\\산업인공지능\\combined_validation.csv', index=False)\n"
   ]
  },
  {
   "cell_type": "markdown",
   "id": "8611fa73",
   "metadata": {},
   "source": [
    "## 데이터 불러오기"
   ]
  },
  {
   "cell_type": "code",
   "execution_count": 9,
   "id": "95b749ca",
   "metadata": {},
   "outputs": [],
   "source": [
    "import pandas as pd\n",
    "\n",
    "df_train = pd.read_csv('combined_training.csv')\n",
    "df_test = pd.read_csv('combined_validation.csv')"
   ]
  }
 ],
 "metadata": {
  "kernelspec": {
   "display_name": "Python 3 (ipykernel)",
   "language": "python",
   "name": "python3"
  },
  "language_info": {
   "codemirror_mode": {
    "name": "ipython",
    "version": 3
   },
   "file_extension": ".py",
   "mimetype": "text/x-python",
   "name": "python",
   "nbconvert_exporter": "python",
   "pygments_lexer": "ipython3",
   "version": "3.11.4"
  }
 },
 "nbformat": 4,
 "nbformat_minor": 5
}
