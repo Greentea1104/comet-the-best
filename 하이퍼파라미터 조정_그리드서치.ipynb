{
 "cells": [
  {
   "cell_type": "code",
   "execution_count": 1,
   "id": "2104ec83-de07-4bda-9d2b-b8a2a49952b1",
   "metadata": {
    "tags": []
   },
   "outputs": [],
   "source": [
    "import pandas as pd \n",
    "\n",
    "df_train = pd.read_csv('train_data.csv')\n",
    "df_valid = pd.read_csv('valid_data.csv')\n",
    "df_test = pd.read_csv('test_data.csv')"
   ]
  },
  {
   "cell_type": "code",
   "execution_count": 2,
   "id": "0549eb3a-7fb8-4266-a88b-9194f6d8e432",
   "metadata": {
    "tags": []
   },
   "outputs": [],
   "source": [
    "columns = [\"llevel\", \"lrate\",\"90HZ\", \"100HZ\", \"110HZ\", \"120HZ\", \"130HZ\", \"140HZ\", \"150HZ\", \"160HZ\", \"170HZ\", \"180HZ\", \"190HZ\", \n",
    "           \"200HZ\", \"210HZ\", \"220HZ\", \"230HZ\", \"240HZ\", \"250HZ\", \"260HZ\", \"270HZ\", \"280HZ\", \"290HZ\", \"300HZ\", \n",
    "           \"310HZ\", \"320HZ\", \"330HZ\", \"340HZ\", \"350HZ\", \"360HZ\", \"370HZ\", \"380HZ\", \"390HZ\", \"400HZ\", \"410HZ\", \n",
    "           \"420HZ\", \"430HZ\", \"440HZ\", \"450HZ\", \"460HZ\", \"470HZ\", \"480HZ\", \"510HZ\", \"540HZ\", \"560HZ\", \"720HZ\", \n",
    "           \"730HZ\", \"740HZ\", \"760HZ\", \"770HZ\", \"780HZ\", \"830HZ\", \"840HZ\"]"
   ]
  },
  {
   "cell_type": "code",
   "execution_count": 3,
   "id": "77864066-0a8b-451f-b7be-3a2c2413fc4b",
   "metadata": {
    "tags": []
   },
   "outputs": [],
   "source": [
    "# x_train, y_train 설정\n",
    "x_train = x_train = df_train[columns]\n",
    "y_train = df_train.iloc[:, 5]\n",
    "\n",
    "# x_valid, y_valid 설정\n",
    "x_valid = x_valid = df_valid[columns]\n",
    "y_valid = df_valid.iloc[:, 5]\n",
    "\n",
    "# x_test, y_test 설정\n",
    "x_test = x_test = df_test[columns]\n",
    "y_test = df_test.iloc[:, 5]"
   ]
  },
  {
   "cell_type": "code",
   "execution_count": 4,
   "id": "eea1e6c9-fc73-48f9-af07-b7d64eed1ed9",
   "metadata": {
    "tags": []
   },
   "outputs": [],
   "source": [
    "from sklearn.preprocessing import LabelEncoder\n",
    "\n",
    "# Encode target labels with value between 0 and n_classes-1\n",
    "# XGBClassifier를 사용하기 위해 대상 레이블을 정수로 인코딩해야 합니다.\n",
    "# 현재 대상 레이블은 범주형 문자열이므로, LabelEncoder를 사용하여 숫자로 변환해야 합니다.\n",
    "\n",
    "label_encoder = LabelEncoder()\n",
    "y_train = label_encoder.fit_transform(y_train)\n",
    "y_valid = label_encoder.transform(y_valid)\n",
    "y_test = label_encoder.transform(y_test)\n",
    "\n",
    "# got ['in' 'noise' 'normal' 'other' 'out']---> 클래스를 정수로 인코딩: [0 1 2 3 4]"
   ]
  },
  {
   "cell_type": "code",
   "execution_count": null,
   "id": "c92fbcca-d948-45db-a919-7275d7017e4f",
   "metadata": {
    "tags": []
   },
   "outputs": [
    {
     "name": "stdout",
     "output_type": "stream",
     "text": [
      "Fitting 3 folds for each of 2187 candidates, totalling 6561 fits\n"
     ]
    }
   ],
   "source": [
    "import xgboost as xgb\n",
    "from sklearn.datasets import load_iris\n",
    "from sklearn.model_selection import train_test_split, GridSearchCV\n",
    "from sklearn.metrics import accuracy_score\n",
    "\n",
    "# 고정된 파라미터\n",
    "params = {\n",
    "    'objective': 'multi:softprob',\n",
    "    'num_class': 3  # 클래스 개수에 맞게 설정\n",
    "}\n",
    "\n",
    "# 조정할 하이퍼파라미터 그리드 설정\n",
    "param_grid = {\n",
    "    'max_depth': [3, 5, 7],\n",
    "    'min_child_weight': [1, 3, 5],\n",
    "    'subsample': [0.7, 0.8, 0.9],\n",
    "    'colsample_bytree': [0.7, 0.8, 0.9],\n",
    "    'gamma': [0, 0.1, 0.3],\n",
    "    'learning_rate': [0.1, 0.01, 0.001],\n",
    "    'n_estimators': [100, 300, 500],\n",
    "}\n",
    "\n",
    "# XGBoost 모델 초기화\n",
    "xgb_model = xgb.XGBClassifier(**params)\n",
    "\n",
    "# GridSearchCV 설정\n",
    "grid_search = GridSearchCV(estimator=xgb_model, param_grid=param_grid, cv=3, scoring='accuracy', verbose=1, n_jobs=-1)\n",
    "\n",
    "# Grid Search 실행\n",
    "grid_search.fit(x_train, y_train)\n",
    "\n",
    "# 최적의 하이퍼파라미터 출력\n",
    "print(\"Best parameters found: \", grid_search.best_params_)\n",
    "print(\"Best cross-validation accuracy: {:.2f}\".format(grid_search.best_score_))\n",
    "\n",
    "# 최적의 모델 추출 및 평가\n",
    "best_xgb_model = grid_search.best_estimator_\n",
    "y_pred = best_xgb_model.predict(x_test)\n",
    "test_accuracy = accuracy_score(y_test, y_pred)\n",
    "print(\"Test accuracy of the best model: {:.2f}\".format(test_accuracy))\n"
   ]
  },
  {
   "cell_type": "code",
   "execution_count": null,
   "id": "a71407fb-ecd9-43ce-8a76-b54559a3f3ea",
   "metadata": {},
   "outputs": [],
   "source": []
  }
 ],
 "metadata": {
  "kernelspec": {
   "display_name": "Python 3 (ipykernel)",
   "language": "python",
   "name": "python3"
  },
  "language_info": {
   "codemirror_mode": {
    "name": "ipython",
    "version": 3
   },
   "file_extension": ".py",
   "mimetype": "text/x-python",
   "name": "python",
   "nbconvert_exporter": "python",
   "pygments_lexer": "ipython3",
   "version": "3.11.4"
  }
 },
 "nbformat": 4,
 "nbformat_minor": 5
}
